{
 "cells": [
  {
   "cell_type": "markdown",
   "metadata": {},
   "source": [
    "# Importing the datasets"
   ]
  },
  {
   "cell_type": "code",
   "execution_count": 80,
   "metadata": {
    "collapsed": true
   },
   "outputs": [],
   "source": [
    "import bs4 as bs\n",
    "import urllib.request\n",
    "import numpy as np\n",
    "import pandas as pd\n",
    "import matplotlib.pyplot as plt"
   ]
  },
  {
   "cell_type": "markdown",
   "metadata": {},
   "source": [
    "#  Fetching the data\n",
    "##  Reading data from the source url"
   ]
  },
  {
   "cell_type": "code",
   "execution_count": 81,
   "metadata": {
    "collapsed": true
   },
   "outputs": [],
   "source": [
    "source = urllib.request.urlopen(r'https://people.sc.fsu.edu/~jburkardt/datasets/regression/x04.txt').read()\n",
    "\n",
    "soup = bs.BeautifulSoup(source, 'lxml')\n",
    "\n",
    "lines = soup.p.contents[0].split('\\n')\n"
   ]
  },
  {
   "cell_type": "markdown",
   "metadata": {},
   "source": [
    "## Removing the empty lines from the fetched data"
   ]
  },
  {
   "cell_type": "code",
   "execution_count": 85,
   "metadata": {
    "collapsed": true
   },
   "outputs": [],
   "source": [
    "try:\n",
    "    lines.remove('')\n",
    "except:\n",
    "    pass"
   ]
  },
  {
   "cell_type": "markdown",
   "metadata": {},
   "source": [
    "## Creating the dataset"
   ]
  },
  {
   "cell_type": "code",
   "execution_count": 86,
   "metadata": {},
   "outputs": [],
   "source": [
    "l1 = []\n",
    "noOfColumns = 0\n",
    "noOfRows = 0\n",
    "for line in lines:\n",
    "  \n",
    "    if line[0] == '#':    # avoiding all the lines stating with '#' character\n",
    "        continue\n",
    "\n",
    "    if line[0] != '#' and (noOfColumns==0 or noOfRows==0):    # fetching the number of rows and columns\n",
    "        datalist = line.split(' ')\n",
    "\n",
    "        if datalist[1] == 'columns':\n",
    "            noOfColumns = int(datalist[0])\n",
    "            col = 0\n",
    "\n",
    "        elif datalist[1] == 'rows':\n",
    "            noOfRows = int(datalist[0])\n",
    "            row = 0\n",
    "\n",
    "    elif line[0] != '#' and noOfColumns>0 and noOfRows>0:    # fetfching all the rows and columns in 1-dimentional array as a list\n",
    "        datalist = line.strip().split()\n",
    "\n",
    "        if col<noOfColumns:\n",
    "            l1.append(' '.join(datalist))\n",
    "            col += 1\n",
    "\n",
    "        elif row<noOfRows:\n",
    "            l1 += datalist\n",
    "            row += 1\n",
    "            \n",
    "dataset = np.array([l1]).reshape((noOfRows+1,noOfColumns))    # Creating the dataset from the of shape(rows, columns) from the 1-D array with the coumns headers\n"
   ]
  },
  {
   "cell_type": "markdown",
   "metadata": {},
   "source": [
    "## Printing the Dataset"
   ]
  },
  {
   "cell_type": "code",
   "execution_count": 87,
   "metadata": {
    "scrolled": true
   },
   "outputs": [
    {
     "name": "stdout",
     "output_type": "stream",
     "text": [
      "[['Index' 'Print Runs (x1000)' 'Page numbers' 'Orders (x1000)']\n",
      " ['1' '2800' '22' '437']\n",
      " ['2' '2670' '14' '204']\n",
      " ['3' '2800' '37' '725']\n",
      " ['4' '2784' '15' '279']\n",
      " ['5' '2800' '38' '474']\n",
      " ['6' '2620' '172' '1587']\n",
      " ['7' '2620' '249' '2630']\n",
      " ['8' '2470' '84' '798']\n",
      " ['9' '2620' '242' '2509']\n",
      " ['10' '2475' '100' '1192']\n",
      " ['11' '2620' '114' '882']\n",
      " ['12' '2620' '37' '511']\n",
      " ['13' '2448' '96' '896']\n",
      " ['14' '2648' '116' '1297']\n",
      " ['15' '2525' '94' '857']\n",
      " ['16' '1000' '47' '388']\n",
      " ['17' '980' '48' '462']\n",
      " ['18' '1000' '15' '67']\n",
      " ['19' '1112' '45' '326']\n",
      " ['20' '1000' '23' '145']\n",
      " ['21' '1000' '44' '298']\n",
      " ['22' '2188' '23' '179']\n",
      " ['23' '1028' '47' '289']\n",
      " ['24' '2200' '31' '200']\n",
      " ['25' '1000' '48' '461']\n",
      " ['26' '980' '48' '223']\n",
      " ['27' '728' '47' '235']\n",
      " ['28' '2510' '26' '235']\n",
      " ['29' '1500' '58' '594']\n",
      " ['30' '2500' '128' '1800']\n",
      " ['31' '2620' '120' '1457']\n",
      " ['32' '2528' '120' '1710']\n",
      " ['33' '2630' '121' '1715']\n",
      " ['34' '2550' '122' '1615']\n",
      " ['35' '1150' '61' '196']\n",
      " ['36' '1150' '50' '309']\n",
      " ['37' '1150' '50' '263']\n",
      " ['38' '1147' '60' '332']]\n"
     ]
    }
   ],
   "source": [
    "print(dataset)"
   ]
  },
  {
   "cell_type": "markdown",
   "metadata": {},
   "source": [
    "# Pre-processing of data\n",
    "##  creating a pandas dataframe"
   ]
  },
  {
   "cell_type": "code",
   "execution_count": 88,
   "metadata": {
    "collapsed": true
   },
   "outputs": [],
   "source": [
    "df = pd.DataFrame(data=dataset[1:,1:],    # selecting all the rows and columns starting from 1st index location i.e. 2nd row and 2nd column as the data\n",
    "                 index=dataset[1:,0],     # 1st column of the dataset is the index and the rows starting from 1st index location\n",
    "                 columns=dataset[0,1:],   # ist row of the dataset is the column names it's the 0th row of the dataset\n",
    "                 dtype = 'float64')"
   ]
  },
  {
   "cell_type": "markdown",
   "metadata": {},
   "source": [
    "## let's have a look at the dataframe"
   ]
  },
  {
   "cell_type": "code",
   "execution_count": 89,
   "metadata": {
    "scrolled": true
   },
   "outputs": [
    {
     "name": "stdout",
     "output_type": "stream",
     "text": [
      "    Print Runs (x1000)  Page numbers  Orders (x1000)\n",
      "1               2800.0          22.0           437.0\n",
      "2               2670.0          14.0           204.0\n",
      "3               2800.0          37.0           725.0\n",
      "4               2784.0          15.0           279.0\n",
      "5               2800.0          38.0           474.0\n",
      "6               2620.0         172.0          1587.0\n",
      "7               2620.0         249.0          2630.0\n",
      "8               2470.0          84.0           798.0\n",
      "9               2620.0         242.0          2509.0\n",
      "10              2475.0         100.0          1192.0\n",
      "11              2620.0         114.0           882.0\n",
      "12              2620.0          37.0           511.0\n",
      "13              2448.0          96.0           896.0\n",
      "14              2648.0         116.0          1297.0\n",
      "15              2525.0          94.0           857.0\n",
      "16              1000.0          47.0           388.0\n",
      "17               980.0          48.0           462.0\n",
      "18              1000.0          15.0            67.0\n",
      "19              1112.0          45.0           326.0\n",
      "20              1000.0          23.0           145.0\n",
      "21              1000.0          44.0           298.0\n",
      "22              2188.0          23.0           179.0\n",
      "23              1028.0          47.0           289.0\n",
      "24              2200.0          31.0           200.0\n",
      "25              1000.0          48.0           461.0\n",
      "26               980.0          48.0           223.0\n",
      "27               728.0          47.0           235.0\n",
      "28              2510.0          26.0           235.0\n",
      "29              1500.0          58.0           594.0\n",
      "30              2500.0         128.0          1800.0\n",
      "31              2620.0         120.0          1457.0\n",
      "32              2528.0         120.0          1710.0\n",
      "33              2630.0         121.0          1715.0\n",
      "34              2550.0         122.0          1615.0\n",
      "35              1150.0          61.0           196.0\n",
      "36              1150.0          50.0           309.0\n",
      "37              1150.0          50.0           263.0\n",
      "38              1147.0          60.0           332.0\n"
     ]
    }
   ],
   "source": [
    "print(df)"
   ]
  },
  {
   "cell_type": "markdown",
   "metadata": {},
   "source": [
    "## fetching the Independent Variables and Dependent Variable"
   ]
  },
  {
   "cell_type": "code",
   "execution_count": 90,
   "metadata": {
    "collapsed": true
   },
   "outputs": [],
   "source": [
    "X = df.iloc[:,:2].values\n",
    "y = df.iloc[:,2:].values"
   ]
  },
  {
   "cell_type": "markdown",
   "metadata": {},
   "source": [
    "## splitting the data into training set and testing set"
   ]
  },
  {
   "cell_type": "code",
   "execution_count": 91,
   "metadata": {
    "collapsed": true
   },
   "outputs": [],
   "source": [
    "from sklearn.model_selection import train_test_split\n",
    "X_train, X_test, y_train, y_test = train_test_split(X, y, test_size=0.2, random_state=42)"
   ]
  },
  {
   "cell_type": "markdown",
   "metadata": {},
   "source": [
    "### in the above case we have 2 Independent Variables so in this case the best model to be fit is Multi Linear Regressor\n",
    "### The equation for the Multi Linear \n",
    "     y = b1*x1 + b2*x2"
   ]
  },
  {
   "cell_type": "markdown",
   "metadata": {},
   "source": [
    "# Fitting the Multi Linear Regressor to the training set"
   ]
  },
  {
   "cell_type": "code",
   "execution_count": 92,
   "metadata": {},
   "outputs": [
    {
     "data": {
      "text/plain": [
       "LinearRegression(copy_X=True, fit_intercept=True, n_jobs=1, normalize=False)"
      ]
     },
     "execution_count": 92,
     "metadata": {},
     "output_type": "execute_result"
    }
   ],
   "source": [
    "from sklearn.linear_model import LinearRegression\n",
    "multi_linear_regressor = LinearRegression()\n",
    "multi_linear_regressor.fit(X_train, y_train)"
   ]
  },
  {
   "cell_type": "markdown",
   "metadata": {},
   "source": [
    "# Predicting the result of the regression"
   ]
  },
  {
   "cell_type": "code",
   "execution_count": 93,
   "metadata": {
    "collapsed": true
   },
   "outputs": [],
   "source": [
    "y_pred = multi_linear_regressor.predict(X_test)"
   ]
  },
  {
   "cell_type": "code",
   "execution_count": 94,
   "metadata": {},
   "outputs": [
    {
     "name": "stdout",
     "output_type": "stream",
     "text": [
      "[[ 1338.74044315]\n",
      " [  365.67446243]\n",
      " [  543.19350818]\n",
      " [ 1296.37102394]\n",
      " [ 1331.35111429]\n",
      " [  259.53551387]\n",
      " [ 2622.3330784 ]\n",
      " [  370.7948818 ]]\n"
     ]
    }
   ],
   "source": [
    "print(y_pred)"
   ]
  },
  {
   "cell_type": "code",
   "execution_count": 95,
   "metadata": {},
   "outputs": [
    {
     "name": "stdout",
     "output_type": "stream",
     "text": [
      "[[ 1615.]\n",
      " [  263.]\n",
      " [  474.]\n",
      " [ 1297.]\n",
      " [ 1457.]\n",
      " [  235.]\n",
      " [ 2630.]\n",
      " [  235.]]\n"
     ]
    }
   ],
   "source": [
    "print(y_test)"
   ]
  },
  {
   "cell_type": "code",
   "execution_count": 96,
   "metadata": {},
   "outputs": [
    {
     "name": "stdout",
     "output_type": "stream",
     "text": [
      "0.976201981992\n",
      "92.8003383128\n",
      "15817.2738378\n"
     ]
    }
   ],
   "source": [
    "from sklearn.metrics import r2_score, mean_absolute_error, mean_squared_error, accuracy_score\n",
    "print(r2_score(y_test, y_pred))\n",
    "print(mean_absolute_error(y_test, y_pred))\n",
    "print(mean_squared_error(y_test, y_pred))"
   ]
  },
  {
   "cell_type": "markdown",
   "metadata": {},
   "source": [
    "# Visualization of the results\n",
    "## Visualizing the training set results"
   ]
  },
  {
   "cell_type": "code",
   "execution_count": 97,
   "metadata": {},
   "outputs": [
    {
     "data": {
      "image/png": "[encoded data removed]",
      "text/plain": [
       "<matplotlib.figure.Figure at 0x1577f72e278>"
      ]
     },
     "metadata": {},
     "output_type": "display_data"
    }
   ],
   "source": [
    "plt.scatter(X_train[:,0], y_train, color='red')\n",
    "plt.plot(X_train[:,0], multi_linear_regressor.predict(X_train), color='blue')\n",
    "plt.title('Print runs vs Order visualization for the training set')\n",
    "plt.xlabel('{0}'.format(df.columns[0]))\n",
    "plt.ylabel('{0}'.format(df.columns[2]))\n",
    "plt.show()"
   ]
  },
  {
   "cell_type": "code",
   "execution_count": 98,
   "metadata": {},
   "outputs": [
    {
     "data": {
      "image/png": "[encoded data removed]",
      "text/plain": [
       "<matplotlib.figure.Figure at 0x1570140e588>"
      ]
     },
     "metadata": {},
     "output_type": "display_data"
    }
   ],
   "source": [
    "plt.scatter(X_test[:,0], y_test, color='red')\n",
    "plt.scatter(X_test[:,0], y_pred, color='blue')\n",
    "plt.plot(X_train[:,0], multi_linear_regressor.predict(X_train), color='blue')\n",
    "plt.title('Patient Weight vs Cathedral Length visual for the testing set')\n",
    "plt.xlabel('{0}'.format(df.columns[0]))\n",
    "plt.ylabel('{0}'.format(df.columns[2]))\n",
    "plt.show()"
   ]
  },
  {
   "cell_type": "markdown",
   "metadata": {},
   "source": [
    "### It's seem like their is defienetly a problem with our training \n",
    "\n",
    "### Let's try to build our model using backward elimination\n",
    "\n",
    "    backward elimination is kind of stepwise regression \n",
    "        their are three types of stewise regression methods, these are:\n",
    "\n",
    "                 1. Forward selection\n",
    "                 2. Backward Elimination\n",
    "                 3. Bidirectional Elimination\n",
    "           \n",
    "    \n",
    "    Here I'm going to introduce the Backward Elimination methods, \n",
    "    \n",
    "        Backward elimination, which involves starting with all candidate variables, testing the deletion of each variable using a chosen model fit criterion, deleting the variable (if any) whose loss gives the most statistically insignificant deterioration of the model fit, and repeating this process until no further variables can be deleted without a statistically significant loss of fit.\n",
    "`source: *https://en.wikipedia.org/wiki/Stepwise_regression*\n",
    "    \n",
    "    Steps include in Backward Elimation methods are:\n",
    "    \n",
    "    Step 1: select a fit criteria with all the independent variables\n",
    "    Step 2: fit the model with all the independent variables values \n",
    "    Step 3: choose the variable whose p value is the highest \n",
    "        if p value > fit critera \n",
    "        then\n",
    "            remove the variable and fit the model with remaining variables and repeat the step 3 until p <= fir critera\n",
    "        else \n",
    "        then \n",
    "            the model is ready \n",
    "    \n",
    "    "
   ]
  },
  {
   "cell_type": "code",
   "execution_count": 99,
   "metadata": {},
   "outputs": [
    {
     "data": {
      "text/html": [
       "<table class=\"simpletable\">\n",
       "<caption>OLS Regression Results</caption>\n",
       "<tr>\n",
       "  <th>Dep. Variable:</th>            <td>y</td>        <th>  R-squared:         </th> <td>   0.932</td>\n",
       "</tr>\n",
       "<tr>\n",
       "  <th>Model:</th>                   <td>OLS</td>       <th>  Adj. R-squared:    </th> <td>   0.928</td>\n",
       "</tr>\n",
       "<tr>\n",
       "  <th>Method:</th>             <td>Least Squares</td>  <th>  F-statistic:       </th> <td>   238.1</td>\n",
       "</tr>\n",
       "<tr>\n",
       "  <th>Date:</th>             <td>Sat, 05 Oct 2019</td> <th>  Prob (F-statistic):</th> <td>4.18e-21</td>\n",
       "</tr>\n",
       "<tr>\n",
       "  <th>Time:</th>                 <td>16:25:14</td>     <th>  Log-Likelihood:    </th> <td> -250.11</td>\n",
       "</tr>\n",
       "<tr>\n",
       "  <th>No. Observations:</th>      <td>    38</td>      <th>  AIC:               </th> <td>   506.2</td>\n",
       "</tr>\n",
       "<tr>\n",
       "  <th>Df Residuals:</th>          <td>    35</td>      <th>  BIC:               </th> <td>   511.1</td>\n",
       "</tr>\n",
       "<tr>\n",
       "  <th>Df Model:</th>              <td>     2</td>      <th>                     </th>     <td> </td>   \n",
       "</tr>\n",
       "<tr>\n",
       "  <th>Covariance Type:</th>      <td>nonrobust</td>    <th>                     </th>     <td> </td>   \n",
       "</tr>\n",
       "</table>\n",
       "<table class=\"simpletable\">\n",
       "<tr>\n",
       "    <td></td>       <th>coef</th>     <th>std err</th>      <th>t</th>      <th>P>|t|</th>  <th>[0.025</th>    <th>0.975]</th>  \n",
       "</tr>\n",
       "<tr>\n",
       "  <th>const</th> <td> -364.8455</td> <td>   83.076</td> <td>   -4.392</td> <td> 0.000</td> <td> -533.499</td> <td> -196.192</td>\n",
       "</tr>\n",
       "<tr>\n",
       "  <th>x1</th>    <td>    0.1833</td> <td>    0.043</td> <td>    4.298</td> <td> 0.000</td> <td>    0.097</td> <td>    0.270</td>\n",
       "</tr>\n",
       "<tr>\n",
       "  <th>x2</th>    <td>   10.2639</td> <td>    0.575</td> <td>   17.840</td> <td> 0.000</td> <td>    9.096</td> <td>   11.432</td>\n",
       "</tr>\n",
       "</table>\n",
       "<table class=\"simpletable\">\n",
       "<tr>\n",
       "  <th>Omnibus:</th>       <td> 1.161</td> <th>  Durbin-Watson:     </th> <td>   1.514</td>\n",
       "</tr>\n",
       "<tr>\n",
       "  <th>Prob(Omnibus):</th> <td> 0.560</td> <th>  Jarque-Bera (JB):  </th> <td>   0.547</td>\n",
       "</tr>\n",
       "<tr>\n",
       "  <th>Skew:</th>          <td> 0.279</td> <th>  Prob(JB):          </th> <td>   0.761</td>\n",
       "</tr>\n",
       "<tr>\n",
       "  <th>Kurtosis:</th>      <td> 3.188</td> <th>  Cond. No.          </th> <td>5.96e+03</td>\n",
       "</tr>\n",
       "</table>"
      ],
      "text/plain": [
       "<class 'statsmodels.iolib.summary.Summary'>\n",
       "\"\"\"\n",
       "                            OLS Regression Results                            \n",
       "==============================================================================\n",
       "Dep. Variable:                      y   R-squared:                       0.932\n",
       "Model:                            OLS   Adj. R-squared:                  0.928\n",
       "Method:                 Least Squares   F-statistic:                     238.1\n",
       "Date:                Sat, 05 Oct 2019   Prob (F-statistic):           4.18e-21\n",
       "Time:                        16:25:14   Log-Likelihood:                -250.11\n",
       "No. Observations:                  38   AIC:                             506.2\n",
       "Df Residuals:                      35   BIC:                             511.1\n",
       "Df Model:                           2                                         \n",
       "Covariance Type:            nonrobust                                         \n",
       "==============================================================================\n",
       "                 coef    std err          t      P>|t|      [0.025      0.975]\n",
       "------------------------------------------------------------------------------\n",
       "const       -364.8455     83.076     -4.392      0.000    -533.499    -196.192\n",
       "x1             0.1833      0.043      4.298      0.000       0.097       0.270\n",
       "x2            10.2639      0.575     17.840      0.000       9.096      11.432\n",
       "==============================================================================\n",
       "Omnibus:                        1.161   Durbin-Watson:                   1.514\n",
       "Prob(Omnibus):                  0.560   Jarque-Bera (JB):                0.547\n",
       "Skew:                           0.279   Prob(JB):                        0.761\n",
       "Kurtosis:                       3.188   Cond. No.                     5.96e+03\n",
       "==============================================================================\n",
       "\n",
       "Warnings:\n",
       "[1] Standard Errors assume that the covariance matrix of the errors is correctly specified.\n",
       "[2] The condition number is large, 5.96e+03. This might indicate that there are\n",
       "strong multicollinearity or other numerical problems.\n",
       "\"\"\""
      ]
     },
     "execution_count": 99,
     "metadata": {},
     "output_type": "execute_result"
    }
   ],
   "source": [
    "import statsmodels.formula.api as sm\n",
    "intercept = np.ones((X.shape[0], 1)).astype(int)\n",
    "X = np.append(arr = intercept, values = X, axis = 1)\n",
    "X_optimal = X[:, [0, 1, 2]]\n",
    "regressor_OLS = sm.OLS(endog = y, exog = X_optimal).fit()\n",
    "regressor_OLS.summary()"
   ]
  },
  {
   "cell_type": "markdown",
   "metadata": {},
   "source": [
    "### Let's try to fit our model without x1 i.e. print runs though it is an important variable but still I have to test that what will be the impact of it on my model "
   ]
  },
  {
   "cell_type": "code",
   "execution_count": 100,
   "metadata": {},
   "outputs": [
    {
     "data": {
      "text/html": [
       "<table class=\"simpletable\">\n",
       "<caption>OLS Regression Results</caption>\n",
       "<tr>\n",
       "  <th>Dep. Variable:</th>            <td>y</td>        <th>  R-squared:         </th> <td>   0.895</td>\n",
       "</tr>\n",
       "<tr>\n",
       "  <th>Model:</th>                   <td>OLS</td>       <th>  Adj. R-squared:    </th> <td>   0.892</td>\n",
       "</tr>\n",
       "<tr>\n",
       "  <th>Method:</th>             <td>Least Squares</td>  <th>  F-statistic:       </th> <td>   308.1</td>\n",
       "</tr>\n",
       "<tr>\n",
       "  <th>Date:</th>             <td>Sat, 05 Oct 2019</td> <th>  Prob (F-statistic):</th> <td>3.13e-19</td>\n",
       "</tr>\n",
       "<tr>\n",
       "  <th>Time:</th>                 <td>16:25:19</td>     <th>  Log-Likelihood:    </th> <td> -258.16</td>\n",
       "</tr>\n",
       "<tr>\n",
       "  <th>No. Observations:</th>      <td>    38</td>      <th>  AIC:               </th> <td>   520.3</td>\n",
       "</tr>\n",
       "<tr>\n",
       "  <th>Df Residuals:</th>          <td>    36</td>      <th>  BIC:               </th> <td>   523.6</td>\n",
       "</tr>\n",
       "<tr>\n",
       "  <th>Df Model:</th>              <td>     1</td>      <th>                     </th>     <td> </td>   \n",
       "</tr>\n",
       "<tr>\n",
       "  <th>Covariance Type:</th>      <td>nonrobust</td>    <th>                     </th>     <td> </td>   \n",
       "</tr>\n",
       "</table>\n",
       "<table class=\"simpletable\">\n",
       "<tr>\n",
       "    <td></td>       <th>coef</th>     <th>std err</th>      <th>t</th>      <th>P>|t|</th>  <th>[0.025</th>    <th>0.975]</th>  \n",
       "</tr>\n",
       "<tr>\n",
       "  <th>const</th> <td>  -76.0962</td> <td>   59.571</td> <td>   -1.277</td> <td> 0.210</td> <td> -196.912</td> <td>   44.719</td>\n",
       "</tr>\n",
       "<tr>\n",
       "  <th>x1</th>    <td>   11.2620</td> <td>    0.642</td> <td>   17.554</td> <td> 0.000</td> <td>    9.961</td> <td>   12.563</td>\n",
       "</tr>\n",
       "</table>\n",
       "<table class=\"simpletable\">\n",
       "<tr>\n",
       "  <th>Omnibus:</th>       <td> 1.714</td> <th>  Durbin-Watson:     </th> <td>   1.196</td>\n",
       "</tr>\n",
       "<tr>\n",
       "  <th>Prob(Omnibus):</th> <td> 0.424</td> <th>  Jarque-Bera (JB):  </th> <td>   1.630</td>\n",
       "</tr>\n",
       "<tr>\n",
       "  <th>Skew:</th>          <td> 0.450</td> <th>  Prob(JB):          </th> <td>   0.443</td>\n",
       "</tr>\n",
       "<tr>\n",
       "  <th>Kurtosis:</th>      <td> 2.529</td> <th>  Cond. No.          </th> <td>    154.</td>\n",
       "</tr>\n",
       "</table>"
      ],
      "text/plain": [
       "<class 'statsmodels.iolib.summary.Summary'>\n",
       "\"\"\"\n",
       "                            OLS Regression Results                            \n",
       "==============================================================================\n",
       "Dep. Variable:                      y   R-squared:                       0.895\n",
       "Model:                            OLS   Adj. R-squared:                  0.892\n",
       "Method:                 Least Squares   F-statistic:                     308.1\n",
       "Date:                Sat, 05 Oct 2019   Prob (F-statistic):           3.13e-19\n",
       "Time:                        16:25:19   Log-Likelihood:                -258.16\n",
       "No. Observations:                  38   AIC:                             520.3\n",
       "Df Residuals:                      36   BIC:                             523.6\n",
       "Df Model:                           1                                         \n",
       "Covariance Type:            nonrobust                                         \n",
       "==============================================================================\n",
       "                 coef    std err          t      P>|t|      [0.025      0.975]\n",
       "------------------------------------------------------------------------------\n",
       "const        -76.0962     59.571     -1.277      0.210    -196.912      44.719\n",
       "x1            11.2620      0.642     17.554      0.000       9.961      12.563\n",
       "==============================================================================\n",
       "Omnibus:                        1.714   Durbin-Watson:                   1.196\n",
       "Prob(Omnibus):                  0.424   Jarque-Bera (JB):                1.630\n",
       "Skew:                           0.450   Prob(JB):                        0.443\n",
       "Kurtosis:                       2.529   Cond. No.                         154.\n",
       "==============================================================================\n",
       "\n",
       "Warnings:\n",
       "[1] Standard Errors assume that the covariance matrix of the errors is correctly specified.\n",
       "\"\"\""
      ]
     },
     "execution_count": 100,
     "metadata": {},
     "output_type": "execute_result"
    }
   ],
   "source": [
    "X_opt = X[:, [0, 2]]\n",
    "regressor_OLS = sm.OLS(endog = y, exog = X_opt).fit()\n",
    "regressor_OLS.summary()"
   ]
  },
  {
   "cell_type": "markdown",
   "metadata": {},
   "source": [
    "### Let's try removing the constat term as well"
   ]
  },
  {
   "cell_type": "code",
   "execution_count": 101,
   "metadata": {},
   "outputs": [
    {
     "data": {
      "text/html": [
       "<table class=\"simpletable\">\n",
       "<caption>OLS Regression Results</caption>\n",
       "<tr>\n",
       "  <th>Dep. Variable:</th>            <td>y</td>        <th>  R-squared:         </th> <td>   0.952</td>\n",
       "</tr>\n",
       "<tr>\n",
       "  <th>Model:</th>                   <td>OLS</td>       <th>  Adj. R-squared:    </th> <td>   0.951</td>\n",
       "</tr>\n",
       "<tr>\n",
       "  <th>Method:</th>             <td>Least Squares</td>  <th>  F-statistic:       </th> <td>   736.9</td>\n",
       "</tr>\n",
       "<tr>\n",
       "  <th>Date:</th>             <td>Sat, 05 Oct 2019</td> <th>  Prob (F-statistic):</th> <td>4.97e-26</td>\n",
       "</tr>\n",
       "<tr>\n",
       "  <th>Time:</th>                 <td>16:25:32</td>     <th>  Log-Likelihood:    </th> <td> -259.00</td>\n",
       "</tr>\n",
       "<tr>\n",
       "  <th>No. Observations:</th>      <td>    38</td>      <th>  AIC:               </th> <td>   520.0</td>\n",
       "</tr>\n",
       "<tr>\n",
       "  <th>Df Residuals:</th>          <td>    37</td>      <th>  BIC:               </th> <td>   521.6</td>\n",
       "</tr>\n",
       "<tr>\n",
       "  <th>Df Model:</th>              <td>     1</td>      <th>                     </th>     <td> </td>   \n",
       "</tr>\n",
       "<tr>\n",
       "  <th>Covariance Type:</th>      <td>nonrobust</td>    <th>                     </th>     <td> </td>   \n",
       "</tr>\n",
       "</table>\n",
       "<table class=\"simpletable\">\n",
       "<tr>\n",
       "   <td></td>     <th>coef</th>     <th>std err</th>      <th>t</th>      <th>P>|t|</th>  <th>[0.025</th>    <th>0.975]</th>  \n",
       "</tr>\n",
       "<tr>\n",
       "  <th>x1</th> <td>   10.6088</td> <td>    0.391</td> <td>   27.145</td> <td> 0.000</td> <td>    9.817</td> <td>   11.401</td>\n",
       "</tr>\n",
       "</table>\n",
       "<table class=\"simpletable\">\n",
       "<tr>\n",
       "  <th>Omnibus:</th>       <td> 2.401</td> <th>  Durbin-Watson:     </th> <td>   1.113</td>\n",
       "</tr>\n",
       "<tr>\n",
       "  <th>Prob(Omnibus):</th> <td> 0.301</td> <th>  Jarque-Bera (JB):  </th> <td>   2.098</td>\n",
       "</tr>\n",
       "<tr>\n",
       "  <th>Skew:</th>          <td> 0.562</td> <th>  Prob(JB):          </th> <td>   0.350</td>\n",
       "</tr>\n",
       "<tr>\n",
       "  <th>Kurtosis:</th>      <td> 2.753</td> <th>  Cond. No.          </th> <td>    1.00</td>\n",
       "</tr>\n",
       "</table>"
      ],
      "text/plain": [
       "<class 'statsmodels.iolib.summary.Summary'>\n",
       "\"\"\"\n",
       "                            OLS Regression Results                            \n",
       "==============================================================================\n",
       "Dep. Variable:                      y   R-squared:                       0.952\n",
       "Model:                            OLS   Adj. R-squared:                  0.951\n",
       "Method:                 Least Squares   F-statistic:                     736.9\n",
       "Date:                Sat, 05 Oct 2019   Prob (F-statistic):           4.97e-26\n",
       "Time:                        16:25:32   Log-Likelihood:                -259.00\n",
       "No. Observations:                  38   AIC:                             520.0\n",
       "Df Residuals:                      37   BIC:                             521.6\n",
       "Df Model:                           1                                         \n",
       "Covariance Type:            nonrobust                                         \n",
       "==============================================================================\n",
       "                 coef    std err          t      P>|t|      [0.025      0.975]\n",
       "------------------------------------------------------------------------------\n",
       "x1            10.6088      0.391     27.145      0.000       9.817      11.401\n",
       "==============================================================================\n",
       "Omnibus:                        2.401   Durbin-Watson:                   1.113\n",
       "Prob(Omnibus):                  0.301   Jarque-Bera (JB):                2.098\n",
       "Skew:                           0.562   Prob(JB):                        0.350\n",
       "Kurtosis:                       2.753   Cond. No.                         1.00\n",
       "==============================================================================\n",
       "\n",
       "Warnings:\n",
       "[1] Standard Errors assume that the covariance matrix of the errors is correctly specified.\n",
       "\"\"\""
      ]
     },
     "execution_count": 101,
     "metadata": {},
     "output_type": "execute_result"
    }
   ],
   "source": [
    "X_opt = X[:, [ 2]]\n",
    "regressor_OLS = sm.OLS(endog = y, exog = X_opt).fit()\n",
    "regressor_OLS.summary()"
   ]
  },
  {
   "cell_type": "markdown",
   "metadata": {},
   "source": [
    "### considering the R-Square value which is very less in case of page no only let's try to train the model agian and then look at  predictions"
   ]
  },
  {
   "cell_type": "code",
   "execution_count": 102,
   "metadata": {},
   "outputs": [
    {
     "data": {
      "text/plain": [
       "LinearRegression(copy_X=True, fit_intercept=True, n_jobs=1, normalize=False)"
      ]
     },
     "execution_count": 102,
     "metadata": {},
     "output_type": "execute_result"
    }
   ],
   "source": [
    "from sklearn.model_selection import train_test_split\n",
    "X_train, X_test, y_train, y_test = train_test_split(X_opt, y, test_size = 0.2, random_state = 0)\n",
    "regressor = LinearRegression()\n",
    "regressor.fit(X_train,y_train)\n"
   ]
  },
  {
   "cell_type": "markdown",
   "metadata": {},
   "source": [
    "#  Predicting the new values"
   ]
  },
  {
   "cell_type": "code",
   "execution_count": 103,
   "metadata": {
    "collapsed": true
   },
   "outputs": [],
   "source": [
    "y_pred_2 = regressor.predict(X_test)"
   ]
  },
  {
   "cell_type": "code",
   "execution_count": 104,
   "metadata": {},
   "outputs": [
    {
     "name": "stdout",
     "output_type": "stream",
     "text": [
      "[[  468.56276878]\n",
      " [ 1365.48914166]\n",
      " [  479.63593388]\n",
      " [  468.56276878]\n",
      " [  357.83111781]\n",
      " [  435.34327349]\n",
      " [  468.56276878]\n",
      " [ 1210.46483029]]\n"
     ]
    }
   ],
   "source": [
    "print(y_pred_2)"
   ]
  },
  {
   "cell_type": "code",
   "execution_count": 105,
   "metadata": {},
   "outputs": [
    {
     "name": "stdout",
     "output_type": "stream",
     "text": [
      "[[  289.]\n",
      " [ 1800.]\n",
      " [  462.]\n",
      " [  388.]\n",
      " [  511.]\n",
      " [  298.]\n",
      " [  235.]\n",
      " [  882.]]\n"
     ]
    }
   ],
   "source": [
    "print(y_test)"
   ]
  },
  {
   "cell_type": "code",
   "execution_count": 106,
   "metadata": {},
   "outputs": [
    {
     "name": "stdout",
     "output_type": "stream",
     "text": [
      "0.773746842502\n",
      "195.601510569\n",
      "54076.0565972\n"
     ]
    }
   ],
   "source": [
    "from sklearn.metrics import r2_score, mean_absolute_error, mean_squared_error, accuracy_score\n",
    "print(r2_score(y_test, y_pred_2))\n",
    "print(mean_absolute_error(y_test, y_pred_2))\n",
    "print(mean_squared_error(y_test, y_pred_2))"
   ]
  },
  {
   "cell_type": "markdown",
   "metadata": {},
   "source": [
    "# Visualization of results\n",
    "## VIsualization of training set"
   ]
  },
  {
   "cell_type": "code",
   "execution_count": 107,
   "metadata": {},
   "outputs": [
    {
     "data": {
      "image/png": "[encoded data removed]",
      "text/plain": [
       "<matplotlib.figure.Figure at 0x15701409b70>"
      ]
     },
     "metadata": {},
     "output_type": "display_data"
    }
   ],
   "source": [
    "plt.scatter(X_train, y_train, color='red')\n",
    "plt.plot(X_train, regressor.predict(X_train), color='blue')\n",
    "plt.title('Page number vs Order visualization for the training set')\n",
    "plt.xlabel('{0}'.format(df.columns[1]))\n",
    "plt.ylabel('{0}'.format(df.columns[2]))\n",
    "plt.show()"
   ]
  },
  {
   "cell_type": "code",
   "execution_count": 108,
   "metadata": {},
   "outputs": [
    {
     "data": {
      "image/png": "[encoded data removed]",
      "text/plain": [
       "<matplotlib.figure.Figure at 0x1570156c9e8>"
      ]
     },
     "metadata": {},
     "output_type": "display_data"
    }
   ],
   "source": [
    "plt.scatter(X_test, y_test, color='red')\n",
    "plt.scatter(X_test, y_pred_2, color='blue')\n",
    "plt.plot(X_train, regressor.predict(X_train), color='blue')\n",
    "plt.title('Page number vs Order visualization for the testing set')\n",
    "plt.xlabel('{0}'.format(df.columns[1]))\n",
    "plt.ylabel('{0}'.format(df.columns[2]))\n",
    "plt.show()"
   ]
  },
  {
   "cell_type": "code",
   "execution_count": null,
   "metadata": {
    "collapsed": true
   },
   "outputs": [],
   "source": []
  }
 ],
 "metadata": {
  "kernelspec": {
   "display_name": "Python 3",
   "language": "python",
   "name": "python3"
  },
  "language_info": {
   "codemirror_mode": {
    "name": "ipython",
    "version": 3
   },
   "file_extension": ".py",
   "mimetype": "text/x-python",
   "name": "python",
   "nbconvert_exporter": "python",
   "pygments_lexer": "ipython3",
   "version": "3.5.3"
  }
 },
 "nbformat": 4,
 "nbformat_minor": 2
}
